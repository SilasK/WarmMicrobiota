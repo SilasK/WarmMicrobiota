{
 "cells": [
  {
   "cell_type": "code",
   "execution_count": 255,
   "metadata": {},
   "outputs": [
    {
     "name": "stdout",
     "output_type": "stream",
     "text": [
      "Populating the interactive namespace from numpy and matplotlib\n"
     ]
    }
   ],
   "source": [
    "%pylab inline\n",
    "\n",
    "import os, sys \n",
    "\n",
    "sys.path.append('/Users/silas/Documents/GitHub/genome_sketch/scripts/')\n",
    "\n",
    "from common import genome_pdist as gd"
   ]
  },
  {
   "cell_type": "code",
   "execution_count": 256,
   "metadata": {},
   "outputs": [
    {
     "name": "stdout",
     "output_type": "stream",
     "text": [
      "/Users/silas/Desktop/Plasmids\n"
     ]
    }
   ],
   "source": [
    "%cd ~/Desktop/Plasmids/"
   ]
  },
  {
   "cell_type": "code",
   "execution_count": 257,
   "metadata": {},
   "outputs": [
    {
     "name": "stdout",
     "output_type": "stream",
     "text": [
      "/Users/silas/miniconda3/opt/bbmap-38.79-0//calcmem.sh: line 75: [: -v: unary operator expected\n",
      "java -ea -Xmx1g -cp /Users/silas/miniconda3/opt/bbmap-38.79-0/current/ jgi.RenameReads in=plasmids.fasta out=plasmids.renamed.fasta.gz prefix=plasmid\n",
      "Executing jgi.RenameReads [in=plasmids.fasta, out=plasmids.renamed.fasta.gz, prefix=plasmid]\n",
      "\n",
      "Time: 16.246 seconds.\n"
     ]
    }
   ],
   "source": [
    "!rename.sh in=plasmids.fasta out=plasmids.renamed.fasta.gz prefix='plasmid'"
   ]
  },
  {
   "cell_type": "code",
   "execution_count": 278,
   "metadata": {},
   "outputs": [
    {
     "name": "stdout",
     "output_type": "stream",
     "text": [
      "AAI.tsv                        nt.sketch\n",
      "ANI.tsv                        plasmid_aa.sketch\n",
      "deduplicated_plasmids.fasta    plasmids.deduplicated.fasta.gz\n",
      "deduplicated_plasmids.fasta.gz plasmids.fasta\n",
      "duplicated_plasmids.txt        plasmids.renamed.fasta.gz\n",
      "\u001b[34mlogs\u001b[m\u001b[m                           virus_aa.sketch\n"
     ]
    }
   ],
   "source": [
    "!ls "
   ]
  },
  {
   "cell_type": "raw",
   "metadata": {},
   "source": [
    "!rm deduplicated_pl*"
   ]
  },
  {
   "cell_type": "raw",
   "metadata": {},
   "source": []
  },
  {
   "cell_type": "raw",
   "metadata": {},
   "source": []
  },
  {
   "cell_type": "raw",
   "metadata": {},
   "source": [
    "%%!\n",
    "\n",
    "bbsketch.sh mode=sequence \\\n",
    "in=plasmids.fasta \\\n",
    "out=nt.sketch  \\\n",
    "overwrite\n",
    "\n",
    "comparesketch.sh alltoall \\\n",
    "in=nt.sketch \\\n",
    "overwrite \\\n",
    "out=ANI.tsv overwrite=true format=3 -Xmx24g"
   ]
  },
  {
   "cell_type": "code",
   "execution_count": 270,
   "metadata": {},
   "outputs": [
    {
     "name": "stdout",
     "output_type": "stream",
     "text": [
      "\n",
      "Written by Brian Bushnell and Jonathan Rood\n",
      "Last modified February 19, 2020\n",
      "\n",
      "Description:  Accepts one or more files containing sets of sequences (reads or scaffolds).\n",
      "Removes duplicate sequences, which may be specified to be exact matches, subsequences, or sequences within some percent identity.\n",
      "Can also find overlapping sequences and group them into clusters.\n",
      "Please read bbmap/docs/guides/DedupeGuide.txt for more information.\n",
      "\n",
      "Usage:     dedupe.sh in=<file or stdin> out=<file or stdout>\n",
      "\n",
      "An example of running Dedupe for clustering short reads:\n",
      "dedupe.sh in=x.fq am=f ac=f fo c pc rnc=f mcs=4 mo=100 s=1 pto cc qin=33 csf=stats.txt pattern=cluster_%.fq dot=graph.dot\n",
      "\n",
      "Input may be fasta or fastq, compressed or uncompressed.\n",
      "Output may be stdout or a file.  With no output parameter, data will be written to stdout.\n",
      "If 'out=null', there will be no output, but statistics will still be printed.\n",
      "You can also use 'dedupe <infile> <outfile>' without the 'in=' and 'out='.\n",
      "\n",
      "I/O parameters:\n",
      "in=<file,file>        A single file or a comma-delimited list of files.\n",
      "out=<file>            Destination for all output contigs.\n",
      "pattern=<file>        Clusters will be written to individual files, where the '%' symbol in the pattern is replaced by cluster number.\n",
      "outd=<file>           Optional; removed duplicates will go here.\n",
      "csf=<file>            (clusterstatsfile) Write a list of cluster names and sizes.\n",
      "dot=<file>            (graph) Write a graph in dot format.  Requires 'fo' and 'pc' flags.\n",
      "threads=auto          (t) Set number of threads to use; default is number of logical processors.\n",
      "overwrite=t           (ow) Set to false to force the program to abort rather than overwrite an existing file.\n",
      "showspeed=t           (ss) Set to 'f' to suppress display of processing speed.\n",
      "minscaf=0             (ms) Ignore contigs/scaffolds shorter than this.\n",
      "interleaved=auto      If true, forces fastq input to be paired and interleaved.\n",
      "ziplevel=2            Set to 1 (lowest) through 9 (max) to change compression level; lower compression is faster.\n",
      "\n",
      "Output format parameters:\n",
      "storename=t           (sn) Store scaffold names (set false to save memory).\n",
      "#addpairnum=f         Add .1 and .2 to numeric id of read1 and read2.\n",
      "storequality=t        (sq) Store quality values for fastq assemblies (set false to save memory).\n",
      "uniquenames=t         (un) Ensure all output scaffolds have unique names.  Uses more memory.\n",
      "mergenames=f          When a sequence absorbs another, concatenate their headers.\n",
      "mergedelimiter=>      Delimiter between merged headers.  Can be a symbol name like greaterthan.\n",
      "numbergraphnodes=t    (ngn) Label dot graph nodes with read numbers rather than read names.\n",
      "sort=f                Sort output (otherwise it will be random).  Options:\n",
      "                         length:  Sort by length\n",
      "                         quality: Sort by quality\n",
      "                         name:    Sort by name\n",
      "                         id:      Sort by input order\n",
      "ascending=f           Sort in ascending order.\n",
      "ordered=f             Output sequences in input order.  Equivalent to sort=id ascending.\n",
      "renameclusters=f      (rnc) Rename contigs to indicate which cluster they are in.\n",
      "printlengthinedges=f  (ple) Print the length of contigs in edges.\n",
      "\n",
      "Processing parameters:\n",
      "absorbrc=t            (arc) Absorb reverse-complements as well as normal orientation.\n",
      "absorbmatch=t         (am) Absorb exact matches of contigs.\n",
      "absorbcontainment=t   (ac) Absorb full containments of contigs.\n",
      "#absorboverlap=f      (ao) Absorb (merge) non-contained overlaps of contigs (TODO).\n",
      "findoverlap=f         (fo) Find overlaps between contigs (containments and non-containments).  Necessary for clustering.\n",
      "uniqueonly=f          (uo) If true, all copies of duplicate reads will be discarded, rather than keeping 1.\n",
      "rmn=f                 (requirematchingnames) If true, both names and sequence must match.\n",
      "usejni=f              (jni) Do alignments in C code, which is faster, if an edit distance is allowed.\n",
      "                      This will require compiling the C code; details are in /jni/README.txt.\n",
      "\n",
      "Subset parameters:\n",
      "subsetcount=1         (sstc) Number of subsets used to process the data; higher uses less memory.\n",
      "subset=0              (sst) Only process reads whose ((ID%subsetcount)==subset).\n",
      "\n",
      "Clustering parameters:\n",
      "cluster=f             (c) Group overlapping contigs into clusters.\n",
      "pto=f                 (preventtransitiveoverlaps) Do not look for new edges between nodes in the same cluster.\n",
      "minclustersize=1      (mcs) Do not output clusters smaller than this.\n",
      "pbr=f                 (pickbestrepresentative) Only output the single highest-quality read per cluster.\n",
      "\n",
      "Cluster postprocessing parameters:\n",
      "processclusters=f     (pc) Run the cluster processing phase, which performs the selected operations in this category.\n",
      "                      For example, pc AND cc must be enabled to perform cc.\n",
      "fixmultijoins=t       (fmj) Remove redundant overlaps between the same two contigs.\n",
      "removecycles=t        (rc) Remove all cycles so clusters form trees.\n",
      "cc=t                  (canonicizeclusters) Flip contigs so clusters have a single orientation.\n",
      "fcc=f                 (fixcanoncontradictions) Truncate graph at nodes with canonization disputes.\n",
      "foc=f                 (fixoffsetcontradictions) Truncate graph at nodes with offset disputes.\n",
      "mst=f                 (maxspanningtree) Remove cyclic edges, leaving only the longest edges that form a tree.\n",
      "\n",
      "Overlap Detection Parameters\n",
      "exact=t               (ex) Only allow exact symbol matches.  When false, an 'N' will match any symbol.\n",
      "touppercase=t         (tuc) Convert input bases to upper-case; otherwise, lower-case will not match.\n",
      "maxsubs=0             (s) Allow up to this many mismatches (substitutions only, no indels).  May be set higher than maxedits.\n",
      "maxedits=0            (e) Allow up to this many edits (subs or indels).  Higher is slower.\n",
      "minidentity=100       (mid) Absorb contained sequences with percent identity of at least this (includes indels).\n",
      "minlengthpercent=0    (mlp) Smaller contig must be at least this percent of larger contig's length to be absorbed.\n",
      "minoverlappercent=0   (mop) Overlap must be at least this percent of smaller contig's length to cluster and merge.\n",
      "minoverlap=200        (mo) Overlap must be at least this long to cluster and merge.\n",
      "depthratio=0          (dr) When non-zero, overlaps will only be formed between reads with a depth ratio of at most this.\n",
      "                      Should be above 1.  Depth is determined by parsing the read names; this information can be added\n",
      "                      by running KmerNormalize (khist.sh, bbnorm.sh, or ecc.sh) with the flag 'rename'\n",
      "k=31                  Seed length used for finding containments and overlaps.  Anything shorter than k will not be found.\n",
      "numaffixmaps=1        (nam) Number of prefixes/suffixes to index per contig. Higher is more sensitive, if edits are allowed.\n",
      "hashns=f              Set to true to search for matches using kmers containing Ns.  Can lead to extreme slowdown in some cases.\n",
      "#ignoreaffix1=f       (ia1) Ignore first affix (for testing).\n",
      "#storesuffix=f        (ss) Store suffix as well as prefix.  Automatically set to true when doing inexact matches.\n",
      "\n",
      "Other Parameters\n",
      "qtrim=f               Set to qtrim=rl to trim leading and trailing Ns.\n",
      "trimq=6               Quality trim level.\n",
      "forcetrimleft=-1      (ftl) If positive, trim bases to the left of this position (exclusive, 0-based).\n",
      "forcetrimright=-1     (ftr) If positive, trim bases to the right of this position (exclusive, 0-based).\n",
      "\n",
      "Note on Proteins / Amino Acids\n",
      "Dedupe supports amino acid space via the 'amino' flag.  This also changes the default kmer length to 10.\n",
      "In amino acid mode, all flags related to canonicity and reverse-complementation are disabled,\n",
      "and nam (numaffixmaps) is currently limited to 2 per tip.\n",
      "\n",
      "Java Parameters:\n",
      "-Xmx                  This will set Java's memory usage, overriding autodetection.\n",
      "                      -Xmx20g will specify 20 gigs of RAM, and -Xmx200m will specify 200 megs.\n",
      "                    The max is typically 85% of physical memory.\n",
      "-eoom                 This flag will cause the process to exit if an out-of-memory exception occurs.  Requires Java 8u92+.\n",
      "-da                   Disable assertions.\n",
      "\n",
      "Please contact Brian Bushnell at bbushnell@lbl.gov if you encounter any problems.\n",
      "\n"
     ]
    }
   ],
   "source": [
    "!dedupe.sh "
   ]
  },
  {
   "cell_type": "code",
   "execution_count": 283,
   "metadata": {},
   "outputs": [
    {
     "data": {
      "text/plain": [
       "['/Users/silas/miniconda3/opt/bbmap-38.79-0//calcmem.sh: line 75: [: -v: unary operator expected',\n",
       " 'java -ea -Xmx24g -Xms24g -cp /Users/silas/miniconda3/opt/bbmap-38.79-0/current/ jgi.Dedupe in=plasmids.renamed.fasta.gz fo=t cluster=t pickbestrepresentative maxedits=10 maxsubs=20 out=plasmids.deduplicated.fasta.gz overwrite -Xmx24g',\n",
       " 'Executing jgi.Dedupe [in=plasmids.renamed.fasta.gz, fo=t, cluster=t, pickbestrepresentative, maxedits=10, maxsubs=20, out=plasmids.deduplicated.fasta.gz, overwrite, -Xmx24g]',\n",
       " 'Version 38.79',\n",
       " '',\n",
       " 'Initial:',\n",
       " 'Memory: max=25769m, total=25769m, free=25761m, used=8m',\n",
       " '',\n",
       " 'Found 11210 duplicates.',\n",
       " 'Finished exact matches.    Time: 4.495 seconds.',\n",
       " 'Memory: max=25769m, total=25769m, free=25157m, used=612m',\n",
       " '',\n",
       " 'Found 4757 contained sequences.',\n",
       " 'Finished containment.      Time: 7.716 seconds.',\n",
       " 'Memory: max=25769m, total=25769m, free=25115m, used=654m',\n",
       " '',\n",
       " 'Removed 4757 invalid entries.',\n",
       " 'Finished invalid removal.  Time: 0.031 seconds.',\n",
       " 'Memory: max=25769m, total=25769m, free=25115m, used=654m',\n",
       " '',\n",
       " 'Found 261931 overlaps.',\n",
       " 'Finished finding overlaps. Time: 48.852 seconds.',\n",
       " 'Memory: max=25769m, total=25769m, free=25044m, used=725m',\n",
       " '',\n",
       " 'Overlaps:       523862,  \\tlength: 1266513324',\n",
       " 'Counted overlaps.          Time: 0.036 seconds.',\n",
       " 'Memory: max=25769m, total=25769m, free=25039m, used=730m',\n",
       " '',\n",
       " 'Clusters:         13526',\n",
       " '',\n",
       " 'Size Range        Clusters          Reads             Bases',\n",
       " '1                 8849              8849              94254710',\n",
       " '2                 1935              3870              45175233',\n",
       " '3-4               1400              4703              49494416',\n",
       " '5-8               809               4897              41981570',\n",
       " '9-16              328               3791              41369512',\n",
       " '17-32             131               2868              28458956',\n",
       " '33-64             55                2394              26165405',\n",
       " '65-128            12                1021              18374831',\n",
       " '129-256           5                 745               3667284',\n",
       " '257-512           1                 389               5859352',\n",
       " '513-1024          1                 693               5479070',\n",
       " '',\n",
       " 'Largest:          693',\n",
       " 'Finished making clusters.  Time: 0.060 seconds.',\n",
       " 'Memory: max=25769m, total=25769m, free=25039m, used=730m',\n",
       " '',\n",
       " 'Removed 0 invalid entries.',\n",
       " 'Finished invalid removal.  Time: 0.002 seconds.',\n",
       " 'Memory: max=25769m, total=25769m, free=25039m, used=730m',\n",
       " '',\n",
       " 'Input:                  \\t50187 reads \\t\\t493219516 bases.',\n",
       " 'Duplicates:             \\t11210 reads (22.34%) \\t88903407 bases (18.03%)     \\t0 collisions.',\n",
       " 'Containments:           \\t4757 reads (9.48%) \\t44035770 bases (8.93%)    \\t1185317 collisions.',\n",
       " 'Overlaps:               \\t261931 reads (521.91%) \\t633256662 bases (128.39%)    \\t383655 collisions.',\n",
       " 'Result:                 \\t34220 reads (68.18%) \\t360280339 bases (73.05%)',\n",
       " '',\n",
       " 'Printed output.            Time: 3.209 seconds.',\n",
       " 'Memory: max=25769m, total=25769m, free=24696m, used=1073m',\n",
       " '',\n",
       " 'Time:                         \\t64.426 seconds.',\n",
       " 'Reads Processed:       50187 \\t0.78k reads/sec',\n",
       " 'Bases Processed:        493m \\t7.66m bases/sec']"
      ]
     },
     "execution_count": 283,
     "metadata": {},
     "output_type": "execute_result"
    }
   ],
   "source": [
    "%%!\n",
    "\n",
    "dedupe.sh \\\n",
    "in=\"plasmids.renamed.fasta.gz\" \\\n",
    "fo=t cluster=t pickbestrepresentative \\\n",
    "maxedits=10 maxsubs=30 \\\n",
    "out=\"plasmids.deduplicated.fasta.gz\" overwrite -Xmx24g"
   ]
  },
  {
   "cell_type": "code",
   "execution_count": 284,
   "metadata": {},
   "outputs": [
    {
     "data": {
      "text/plain": [
       "['/Users/silas/miniconda3/opt/bbmap-38.79-0//calcmem.sh: line 75: [: -v: unary operator expected',\n",
       " 'Max memory cannot be determined.  Attempting to use 4000 MB.',\n",
       " 'If this fails, please add the -Xmx flag (e.g. -Xmx24g) to your command, ',\n",
       " 'or run this program qsubbed or from a qlogin session on Genepool, or set ulimit to an appropriate value.',\n",
       " 'java -ea -Xmx4000m -Xms4000m -cp /Users/silas/miniconda3/opt/bbmap-38.79-0/current/ sketch.SketchMaker translate=t mode=sequence in=plasmids.deduplicated.fasta.gz out=plasmid_aa.sketch overwrite',\n",
       " 'Set k to 12,9',\n",
       " 'Loading sketches.',\n",
       " 'Loaded 12921 sketches in 13.452 seconds.',\n",
       " 'Total Time: \\t13.466 seconds.',\n",
       " '/Users/silas/miniconda3/opt/bbmap-38.79-0//calcmem.sh: line 75: [: -v: unary operator expected',\n",
       " 'Set k to 12,9',\n",
       " 'Loading sketches.',\n",
       " 'Executing kmer.KmerTableSet [ways=31, tabletype=10, prealloc=f]',\n",
       " '',\n",
       " 'Initial:',\n",
       " 'Ways=31, initialSize=128000, prefilter=f, prealloc=f',\n",
       " 'Memory: max=25769m, total=25769m, free=25639m, used=130m',\n",
       " '',\n",
       " '0.021 seconds.',\n",
       " 'Indexed 2160562 unique and 2706314 total hashcodes.',\n",
       " 'Loaded 12921 sketches in 1.049 seconds.',\n",
       " '',\n",
       " 'Ran 77833 comparisons in 0.851 seconds.',\n",
       " 'Total Time: \\t1.901 seconds.']"
      ]
     },
     "execution_count": 284,
     "metadata": {},
     "output_type": "execute_result"
    }
   ],
   "source": [
    "%%!\n",
    "\n",
    "bbsketch.sh translate=t mode=sequence \\\n",
    "in=\"plasmids.deduplicated.fasta.gz\" \\\n",
    "out=plasmid_aa.sketch \\\n",
    "overwrite\n",
    "\n",
    "comparesketch.sh alltoall \\\n",
    "amino=true in=plasmid_aa.sketch \\\n",
    "out=AAI.tsv overwrite=true format=3 -Xmx24g"
   ]
  },
  {
   "cell_type": "code",
   "execution_count": 285,
   "metadata": {},
   "outputs": [],
   "source": [
    "\n",
    "import pandas as pd\n",
    "import seaborn as sns\n"
   ]
  },
  {
   "cell_type": "code",
   "execution_count": 286,
   "metadata": {},
   "outputs": [],
   "source": [
    "D=gd.load_bbsketch('AAI.tsv')"
   ]
  },
  {
   "cell_type": "code",
   "execution_count": 310,
   "metadata": {},
   "outputs": [
    {
     "data": {
      "text/plain": [
       "<matplotlib.axes._subplots.AxesSubplot at 0x1a352112b0>"
      ]
     },
     "execution_count": 310,
     "metadata": {},
     "output_type": "execute_result"
    },
    {
     "data": {
      "image/png": "[encoded data removed]",
      "text/plain": [
       "<Figure size 864x288 with 2 Axes>"
      ]
     },
     "metadata": {
      "needs_background": "light"
     },
     "output_type": "display_data"
    }
   ],
   "source": [
    "f,axe= plt.subplots(1,2,figsize=(12,4))\n",
    "D.Identity.hist(bins='auto',ax=axe[0],log=True)\n",
    "D.Identity.hist(bins='auto',ax=axe[1])\n"
   ]
  },
  {
   "cell_type": "code",
   "execution_count": 295,
   "metadata": {},
   "outputs": [],
   "source": [
    "overlapping= D.query('Identity>0.99')"
   ]
  },
  {
   "cell_type": "code",
   "execution_count": 296,
   "metadata": {},
   "outputs": [
    {
     "data": {
      "text/html": [
       "<div>\n",
       "<style scoped>\n",
       "    .dataframe tbody tr th:only-of-type {\n",
       "        vertical-align: middle;\n",
       "    }\n",
       "\n",
       "    .dataframe tbody tr th {\n",
       "        vertical-align: top;\n",
       "    }\n",
       "\n",
       "    .dataframe thead th {\n",
       "        text-align: right;\n",
       "    }\n",
       "</style>\n",
       "<table border=\"1\" class=\"dataframe\">\n",
       "  <thead>\n",
       "    <tr style=\"text-align: right;\">\n",
       "      <th></th>\n",
       "      <th></th>\n",
       "      <th>AAI</th>\n",
       "      <th>QSize</th>\n",
       "      <th>RefSize</th>\n",
       "      <th>QBases</th>\n",
       "      <th>RBases</th>\n",
       "      <th>KID</th>\n",
       "      <th>WKID</th>\n",
       "      <th>SSU</th>\n",
       "      <th>Identity</th>\n",
       "    </tr>\n",
       "  </thead>\n",
       "  <tbody>\n",
       "    <tr>\n",
       "      <th>plasmid_42067</th>\n",
       "      <th>plasmid_41168</th>\n",
       "      <td>99.794</td>\n",
       "      <td>1262</td>\n",
       "      <td>2498</td>\n",
       "      <td>1361</td>\n",
       "      <td>2870</td>\n",
       "      <td>50.777</td>\n",
       "      <td>98.000</td>\n",
       "      <td>NaN</td>\n",
       "      <td>0.99794</td>\n",
       "    </tr>\n",
       "    <tr>\n",
       "      <th>plasmid_26464</th>\n",
       "      <th>plasmid_27383</th>\n",
       "      <td>99.686</td>\n",
       "      <td>44351</td>\n",
       "      <td>44056</td>\n",
       "      <td>46041</td>\n",
       "      <td>45761</td>\n",
       "      <td>96.401</td>\n",
       "      <td>96.876</td>\n",
       "      <td>NaN</td>\n",
       "      <td>0.99686</td>\n",
       "    </tr>\n",
       "    <tr>\n",
       "      <th>plasmid_7325</th>\n",
       "      <th>plasmid_13748</th>\n",
       "      <td>99.848</td>\n",
       "      <td>597</td>\n",
       "      <td>557</td>\n",
       "      <td>621</td>\n",
       "      <td>581</td>\n",
       "      <td>94.444</td>\n",
       "      <td>98.551</td>\n",
       "      <td>NaN</td>\n",
       "      <td>0.99848</td>\n",
       "    </tr>\n",
       "    <tr>\n",
       "      <th>plasmid_12744</th>\n",
       "      <th>plasmid_5272</th>\n",
       "      <td>99.206</td>\n",
       "      <td>566</td>\n",
       "      <td>540</td>\n",
       "      <td>620</td>\n",
       "      <td>620</td>\n",
       "      <td>87.500</td>\n",
       "      <td>91.304</td>\n",
       "      <td>NaN</td>\n",
       "      <td>0.99206</td>\n",
       "    </tr>\n",
       "    <tr>\n",
       "      <th>plasmid_21595</th>\n",
       "      <th>plasmid_1633</th>\n",
       "      <td>100.000</td>\n",
       "      <td>569</td>\n",
       "      <td>567</td>\n",
       "      <td>630</td>\n",
       "      <td>591</td>\n",
       "      <td>98.592</td>\n",
       "      <td>100.000</td>\n",
       "      <td>NaN</td>\n",
       "      <td>1.00000</td>\n",
       "    </tr>\n",
       "    <tr>\n",
       "      <th>...</th>\n",
       "      <th>...</th>\n",
       "      <td>...</td>\n",
       "      <td>...</td>\n",
       "      <td>...</td>\n",
       "      <td>...</td>\n",
       "      <td>...</td>\n",
       "      <td>...</td>\n",
       "      <td>...</td>\n",
       "      <td>...</td>\n",
       "      <td>...</td>\n",
       "    </tr>\n",
       "    <tr>\n",
       "      <th>plasmid_40374</th>\n",
       "      <th>plasmid_24657</th>\n",
       "      <td>100.000</td>\n",
       "      <td>126</td>\n",
       "      <td>524</td>\n",
       "      <td>148</td>\n",
       "      <td>568</td>\n",
       "      <td>26.761</td>\n",
       "      <td>100.000</td>\n",
       "      <td>NaN</td>\n",
       "      <td>1.00000</td>\n",
       "    </tr>\n",
       "    <tr>\n",
       "      <th>plasmid_26162</th>\n",
       "      <th>plasmid_16413</th>\n",
       "      <td>100.000</td>\n",
       "      <td>151</td>\n",
       "      <td>313</td>\n",
       "      <td>173</td>\n",
       "      <td>324</td>\n",
       "      <td>41.379</td>\n",
       "      <td>100.000</td>\n",
       "      <td>NaN</td>\n",
       "      <td>1.00000</td>\n",
       "    </tr>\n",
       "    <tr>\n",
       "      <th>plasmid_49768</th>\n",
       "      <th>plasmid_46669</th>\n",
       "      <td>99.036</td>\n",
       "      <td>143</td>\n",
       "      <td>175</td>\n",
       "      <td>210</td>\n",
       "      <td>296</td>\n",
       "      <td>70.370</td>\n",
       "      <td>86.364</td>\n",
       "      <td>NaN</td>\n",
       "      <td>0.99036</td>\n",
       "    </tr>\n",
       "    <tr>\n",
       "      <th>plasmid_41929</th>\n",
       "      <th>plasmid_41661</th>\n",
       "      <td>99.196</td>\n",
       "      <td>170</td>\n",
       "      <td>164</td>\n",
       "      <td>209</td>\n",
       "      <td>209</td>\n",
       "      <td>85.185</td>\n",
       "      <td>88.462</td>\n",
       "      <td>NaN</td>\n",
       "      <td>0.99196</td>\n",
       "    </tr>\n",
       "    <tr>\n",
       "      <th>plasmid_1591</th>\n",
       "      <th>plasmid_1866</th>\n",
       "      <td>100.000</td>\n",
       "      <td>26</td>\n",
       "      <td>64</td>\n",
       "      <td>203</td>\n",
       "      <td>283</td>\n",
       "      <td>40.000</td>\n",
       "      <td>100.000</td>\n",
       "      <td>NaN</td>\n",
       "      <td>1.00000</td>\n",
       "    </tr>\n",
       "  </tbody>\n",
       "</table>\n",
       "<p>1616 rows × 9 columns</p>\n",
       "</div>"
      ],
      "text/plain": [
       "                                 AAI  QSize  RefSize  QBases  RBases     KID  \\\n",
       "plasmid_42067 plasmid_41168   99.794   1262     2498    1361    2870  50.777   \n",
       "plasmid_26464 plasmid_27383   99.686  44351    44056   46041   45761  96.401   \n",
       "plasmid_7325  plasmid_13748   99.848    597      557     621     581  94.444   \n",
       "plasmid_12744 plasmid_5272    99.206    566      540     620     620  87.500   \n",
       "plasmid_21595 plasmid_1633   100.000    569      567     630     591  98.592   \n",
       "...                              ...    ...      ...     ...     ...     ...   \n",
       "plasmid_40374 plasmid_24657  100.000    126      524     148     568  26.761   \n",
       "plasmid_26162 plasmid_16413  100.000    151      313     173     324  41.379   \n",
       "plasmid_49768 plasmid_46669   99.036    143      175     210     296  70.370   \n",
       "plasmid_41929 plasmid_41661   99.196    170      164     209     209  85.185   \n",
       "plasmid_1591  plasmid_1866   100.000     26       64     203     283  40.000   \n",
       "\n",
       "                                WKID  SSU  Identity  \n",
       "plasmid_42067 plasmid_41168   98.000  NaN   0.99794  \n",
       "plasmid_26464 plasmid_27383   96.876  NaN   0.99686  \n",
       "plasmid_7325  plasmid_13748   98.551  NaN   0.99848  \n",
       "plasmid_12744 plasmid_5272    91.304  NaN   0.99206  \n",
       "plasmid_21595 plasmid_1633   100.000  NaN   1.00000  \n",
       "...                              ...  ...       ...  \n",
       "plasmid_40374 plasmid_24657  100.000  NaN   1.00000  \n",
       "plasmid_26162 plasmid_16413  100.000  NaN   1.00000  \n",
       "plasmid_49768 plasmid_46669   86.364  NaN   0.99036  \n",
       "plasmid_41929 plasmid_41661   88.462  NaN   0.99196  \n",
       "plasmid_1591  plasmid_1866   100.000  NaN   1.00000  \n",
       "\n",
       "[1616 rows x 9 columns]"
      ]
     },
     "execution_count": 296,
     "metadata": {},
     "output_type": "execute_result"
    }
   ],
   "source": [
    "overlapping\n"
   ]
  },
  {
   "cell_type": "code",
   "execution_count": 297,
   "metadata": {},
   "outputs": [],
   "source": [
    "lengths= pd.concat((\n",
    "    D.groupby(level=0).QBases.first(),\n",
    "    D.groupby(level=1).RBases.first()\n",
    "))\n",
    "lengths=lengths.loc[~lengths.index.duplicated()]"
   ]
  },
  {
   "cell_type": "code",
   "execution_count": 298,
   "metadata": {},
   "outputs": [
    {
     "data": {
      "text/plain": [
       "(array([4.700e+01, 9.360e+02, 2.855e+03, 1.179e+03, 6.600e+02, 5.080e+02,\n",
       "        5.690e+02, 1.970e+02, 7.500e+01, 2.000e+00]),\n",
       " array([1.73239376, 2.12422757, 2.51606139, 2.9078952 , 3.29972901,\n",
       "        3.69156283, 4.08339664, 4.47523045, 4.86706427, 5.25889808,\n",
       "        5.65073189]),\n",
       " <a list of 10 Patch objects>)"
      ]
     },
     "execution_count": 298,
     "metadata": {},
     "output_type": "execute_result"
    },
    {
     "data": {
      "image/png": "[encoded data removed]",
      "text/plain": [
       "<Figure size 432x288 with 1 Axes>"
      ]
     },
     "metadata": {
      "needs_background": "light"
     },
     "output_type": "display_data"
    }
   ],
   "source": [
    "plt.hist(np.log10(lengths))"
   ]
  },
  {
   "cell_type": "code",
   "execution_count": 299,
   "metadata": {},
   "outputs": [],
   "source": [
    "import networkx as nx\n",
    "G= gd.to_graph(overlapping)"
   ]
  },
  {
   "cell_type": "code",
   "execution_count": 300,
   "metadata": {},
   "outputs": [],
   "source": [
    "Grouping=pd.Series(np.nan,index=G.nodes())\n",
    "\n",
    "for i,cc in enumerate(nx.connected_components(G)):\n",
    "    Grouping.loc[cc]=lengths.loc[cc].idxmax()"
   ]
  },
  {
   "cell_type": "code",
   "execution_count": 301,
   "metadata": {},
   "outputs": [],
   "source": [
    "duplicated_contigs= Grouping.index.difference(Grouping.values)"
   ]
  },
  {
   "cell_type": "code",
   "execution_count": 302,
   "metadata": {},
   "outputs": [],
   "source": [
    "with open('duplicated_plasmids.txt','w') as f: \n",
    "    f.write('\\n'.join(tuple(duplicated_contigs)))\n",
    "    \n",
    "!mkdir -p logs\n",
    "    \n",
    "\n",
    "!filterbyname.sh in=plasmids.deduplicated.fasta.gz names=duplicated_plasmids.txt include=f out=plasmids.dereplicated.fasta.gz ow 2> logs/drop_duplicted.log"
   ]
  },
  {
   "cell_type": "code",
   "execution_count": 303,
   "metadata": {},
   "outputs": [
    {
     "data": {
      "text/plain": [
       "['/Users/silas/miniconda3/opt/bbmap-38.79-0//calcmem.sh: line 75: [: -v: unary operator expected',\n",
       " 'Max memory cannot be determined.  Attempting to use 4000 MB.',\n",
       " 'If this fails, please add the -Xmx flag (e.g. -Xmx24g) to your command, ',\n",
       " 'or run this program qsubbed or from a qlogin session on Genepool, or set ulimit to an appropriate value.',\n",
       " 'java -ea -Xmx4000m -Xms4000m -cp /Users/silas/miniconda3/opt/bbmap-38.79-0/current/ sketch.SketchMaker translate=t mode=sequence in=plasmids.dereplicated.fasta.gz out=plasmids_aa.sketch overwrite',\n",
       " 'Set k to 12,9',\n",
       " 'Loading sketches.',\n",
       " 'Loaded 12251 sketches in 12.464 seconds.',\n",
       " 'Total Time: \\t12.478 seconds.',\n",
       " '/Users/silas/miniconda3/opt/bbmap-38.79-0//calcmem.sh: line 75: [: -v: unary operator expected',\n",
       " 'Set k to 12,9',\n",
       " 'Loading sketches.',\n",
       " 'Executing kmer.KmerTableSet [ways=31, tabletype=10, prealloc=f]',\n",
       " '',\n",
       " 'Initial:',\n",
       " 'Ways=31, initialSize=128000, prefilter=f, prealloc=f',\n",
       " 'Memory: max=25769m, total=25769m, free=25639m, used=130m',\n",
       " '',\n",
       " '0.026 seconds.',\n",
       " 'Indexed 2141468 unique and 2441602 total hashcodes.',\n",
       " 'Loaded 12251 sketches in 0.817 seconds.',\n",
       " '',\n",
       " 'Ran 61681 comparisons in 1.043 seconds.',\n",
       " 'Total Time: \\t1.861 seconds.']"
      ]
     },
     "execution_count": 303,
     "metadata": {},
     "output_type": "execute_result"
    }
   ],
   "source": [
    "%%!\n",
    "\n",
    "bbsketch.sh translate=t mode=sequence \\\n",
    "in=plasmids.dereplicated.fasta.gz \\\n",
    "out=plasmids_aa.sketch \\\n",
    "overwrite\n",
    "\n",
    "comparesketch.sh alltoall \\\n",
    "amino=true in=plasmids_aa.sketch \\\n",
    "out=AAI.tsv overwrite=true format=3 -Xmx24g"
   ]
  },
  {
   "cell_type": "code",
   "execution_count": 304,
   "metadata": {},
   "outputs": [
    {
     "data": {
      "text/plain": [
       "(38653, 9)"
      ]
     },
     "execution_count": 304,
     "metadata": {},
     "output_type": "execute_result"
    }
   ],
   "source": [
    "M = gd.load_bbsketch('AAI.tsv')\n",
    "\n",
    "M.shape"
   ]
  },
  {
   "cell_type": "code",
   "execution_count": null,
   "metadata": {},
   "outputs": [],
   "source": []
  },
  {
   "cell_type": "code",
   "execution_count": 313,
   "metadata": {},
   "outputs": [
    {
     "data": {
      "text/plain": [
       "<matplotlib.axes._subplots.AxesSubplot at 0x1a31ab3f28>"
      ]
     },
     "execution_count": 313,
     "metadata": {},
     "output_type": "execute_result"
    },
    {
     "data": {
      "image/png": "[encoded data removed]",
      "text/plain": [
       "<Figure size 864x288 with 2 Axes>"
      ]
     },
     "metadata": {
      "needs_background": "light"
     },
     "output_type": "display_data"
    }
   ],
   "source": [
    "f,axe= plt.subplots(1,2,figsize=(12,4))\n",
    "M.Identity.hist(bins='auto',ax=axe[0])\n",
    "M.Identity.hist(bins='auto',range=(0.9,1),ax=axe[1])\n"
   ]
  },
  {
   "cell_type": "code",
   "execution_count": 308,
   "metadata": {},
   "outputs": [
    {
     "data": {
      "image/png": "[encoded data removed]",
      "text/plain": [
       "<Figure size 432x288 with 1 Axes>"
      ]
     },
     "metadata": {
      "needs_background": "light"
     },
     "output_type": "display_data"
    }
   ],
   "source": [
    "dereplicated=M.index.levels[0].union(M.index.levels[1])\n",
    "len(dereplicated)\n",
    "\n",
    "plt.hist(np.log10(lengths.loc[dereplicated]),bins='auto');"
   ]
  },
  {
   "cell_type": "code",
   "execution_count": 309,
   "metadata": {},
   "outputs": [
    {
     "data": {
      "text/plain": [
       "plasmid_44473        54\n",
       "plasmid_20162        56\n",
       "plasmid_5688         64\n",
       "plasmid_6737         73\n",
       "plasmid_45715        75\n",
       "                  ...  \n",
       "plasmid_40132    159390\n",
       "plasmid_39317    166905\n",
       "plasmid_485      167128\n",
       "plasmid_38977    181916\n",
       "plasmid_3770     447437\n",
       "Length: 6265, dtype: int64"
      ]
     },
     "execution_count": 309,
     "metadata": {},
     "output_type": "execute_result"
    }
   ],
   "source": [
    "lengths.loc[dereplicated].sort_values()"
   ]
  },
  {
   "cell_type": "code",
   "execution_count": null,
   "metadata": {},
   "outputs": [],
   "source": []
  }
 ],
 "metadata": {
  "kernelspec": {
   "display_name": "Python 3",
   "language": "python",
   "name": "python3"
  },
  "language_info": {
   "codemirror_mode": {
    "name": "ipython",
    "version": 3
   },
   "file_extension": ".py",
   "mimetype": "text/x-python",
   "name": "python",
   "nbconvert_exporter": "python",
   "pygments_lexer": "ipython3",
   "version": "3.6.7"
  }
 },
 "nbformat": 4,
 "nbformat_minor": 4
}
