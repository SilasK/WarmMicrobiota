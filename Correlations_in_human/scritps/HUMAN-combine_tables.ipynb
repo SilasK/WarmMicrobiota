{
 "cells": [
  {
   "cell_type": "code",
   "execution_count": 1,
   "metadata": {},
   "outputs": [
    {
     "name": "stdout",
     "output_type": "stream",
     "text": [
      "Populating the interactive namespace from numpy and matplotlib\n"
     ]
    }
   ],
   "source": [
    "%pylab inline\n",
    "import pandas as pd"
   ]
  },
  {
   "cell_type": "code",
   "execution_count": 2,
   "metadata": {},
   "outputs": [],
   "source": [
    "from scipy.stats import pearsonr\n",
    "import shutil"
   ]
  },
  {
   "cell_type": "code",
   "execution_count": 3,
   "metadata": {},
   "outputs": [],
   "source": [
    "T=pd.read_excel('../raw_data/climate_change_download_0.xls',index_col=1,na_values='..')\n",
    "T.columns=T.columns.astype(str)\n",
    "T=T.loc[T['Series name']=='Average daily min/max temperature (1961-1990, Celsius)','2011']\n",
    "\n",
    "T=T.dropna().map(lambda s: s.split('/ ')[1]).astype(float)\n",
    "T.name='Temperature'\n",
    "T.rename(index={'Iran, Islamic Rep.':'Iran', \n",
    "                'Russian Federation':'Russia',\n",
    "               'Korea, Dem. Rep.':'South Korea',\n",
    "               'Hong Kong SAR, China':'Hong Kong',\n",
    "               'Slovak Republic':'Slovakia',\n",
    "               'United States':'United States of America',\n",
    "               'Venezuela, RB':'Venezuela'},inplace=True)"
   ]
  },
  {
   "cell_type": "code",
   "execution_count": 4,
   "metadata": {},
   "outputs": [],
   "source": [
    "H= pd.read_excel('../raw_data/Hip_fracture.xlsx',index_col=0)\n",
    "H.rename(index={'United States':'United States of America'},inplace=True)"
   ]
  },
  {
   "cell_type": "code",
   "execution_count": 5,
   "metadata": {},
   "outputs": [],
   "source": [
    "\n",
    "\n",
    "Latitude= pd.read_excel('../raw_data/Latitudes.xlsx',index_col=0)\n",
    "Latitude['latitude']=Latitude.Latitude.str[:2].astype(int)\n",
    "Latitude.loc[(Latitude.Latitude.str[-1]=='S'),'latitude']*=-1\n",
    "\n",
    "Latitude.rename(index={'Iran (Islamic Republic of)':'Iran',\n",
    "                       'Russian Federation':'Russia'\n",
    "                      },inplace=True)\n",
    "\n",
    "D= H.join(T)\n",
    "D['Latitude']= Latitude.latitude.abs()"
   ]
  },
  {
   "cell_type": "code",
   "execution_count": 6,
   "metadata": {},
   "outputs": [
    {
     "data": {
      "text/plain": [
       "Index(['Hong Kong', 'Japan', 'Singapore', 'South Korea', 'Taiwan', 'Serbia',\n",
       "       'Morocco'],\n",
       "      dtype='object', name='Country')"
      ]
     },
     "execution_count": 6,
     "metadata": {},
     "output_type": "execute_result"
    }
   ],
   "source": [
    "D.loc[D.Latitude.isnull()].index"
   ]
  },
  {
   "cell_type": "code",
   "execution_count": 7,
   "metadata": {},
   "outputs": [],
   "source": [
    "missing_latitude= {'Singapore':1,'Japan':35,'Hong Kong':22,\n",
    "                  'South Korea':38, 'Serbia':45, 'Morocco':34,'Taiwan':25\n",
    "                 }\n",
    "\n",
    "D.loc[missing_latitude.keys(),'Latitude']= pd.Series(missing_latitude)"
   ]
  },
  {
   "cell_type": "code",
   "execution_count": 8,
   "metadata": {},
   "outputs": [
    {
     "data": {
      "text/html": [
       "<div>\n",
       "<style scoped>\n",
       "    .dataframe tbody tr th:only-of-type {\n",
       "        vertical-align: middle;\n",
       "    }\n",
       "\n",
       "    .dataframe tbody tr th {\n",
       "        vertical-align: top;\n",
       "    }\n",
       "\n",
       "    .dataframe thead th {\n",
       "        text-align: right;\n",
       "    }\n",
       "</style>\n",
       "<table border=\"1\" class=\"dataframe\">\n",
       "  <thead>\n",
       "    <tr style=\"text-align: right;\">\n",
       "      <th></th>\n",
       "      <th>Continent</th>\n",
       "      <th>Men</th>\n",
       "      <th>Women</th>\n",
       "      <th>Total</th>\n",
       "      <th>Temperature</th>\n",
       "      <th>Latitude</th>\n",
       "    </tr>\n",
       "    <tr>\n",
       "      <th>Country</th>\n",
       "      <th></th>\n",
       "      <th></th>\n",
       "      <th></th>\n",
       "      <th></th>\n",
       "      <th></th>\n",
       "      <th></th>\n",
       "    </tr>\n",
       "  </thead>\n",
       "  <tbody>\n",
       "    <tr>\n",
       "      <th>Nigeria</th>\n",
       "      <td>Africa</td>\n",
       "      <td>2</td>\n",
       "      <td>2</td>\n",
       "      <td>2.0</td>\n",
       "      <td>32.8</td>\n",
       "      <td>9.0</td>\n",
       "    </tr>\n",
       "    <tr>\n",
       "      <th>South Africa</th>\n",
       "      <td>Africa</td>\n",
       "      <td>17</td>\n",
       "      <td>20</td>\n",
       "      <td>19.0</td>\n",
       "      <td>24.9</td>\n",
       "      <td>25.0</td>\n",
       "    </tr>\n",
       "    <tr>\n",
       "      <th>China</th>\n",
       "      <td>Asia</td>\n",
       "      <td>102</td>\n",
       "      <td>182</td>\n",
       "      <td>141.0</td>\n",
       "      <td>13.0</td>\n",
       "      <td>39.0</td>\n",
       "    </tr>\n",
       "    <tr>\n",
       "      <th>Hong Kong</th>\n",
       "      <td>Asia</td>\n",
       "      <td>149</td>\n",
       "      <td>324</td>\n",
       "      <td>230.0</td>\n",
       "      <td>26.0</td>\n",
       "      <td>22.0</td>\n",
       "    </tr>\n",
       "    <tr>\n",
       "      <th>India</th>\n",
       "      <td>Asia</td>\n",
       "      <td>122</td>\n",
       "      <td>172</td>\n",
       "      <td>147.0</td>\n",
       "      <td>29.6</td>\n",
       "      <td>28.0</td>\n",
       "    </tr>\n",
       "    <tr>\n",
       "      <th>...</th>\n",
       "      <td>...</td>\n",
       "      <td>...</td>\n",
       "      <td>...</td>\n",
       "      <td>...</td>\n",
       "      <td>...</td>\n",
       "      <td>...</td>\n",
       "    </tr>\n",
       "    <tr>\n",
       "      <th>Tunisia</th>\n",
       "      <td>Middle East</td>\n",
       "      <td>41</td>\n",
       "      <td>58</td>\n",
       "      <td>50.0</td>\n",
       "      <td>24.9</td>\n",
       "      <td>36.0</td>\n",
       "    </tr>\n",
       "    <tr>\n",
       "      <th>Canada</th>\n",
       "      <td>North America</td>\n",
       "      <td>136</td>\n",
       "      <td>298</td>\n",
       "      <td>211.0</td>\n",
       "      <td>-0.6</td>\n",
       "      <td>45.0</td>\n",
       "    </tr>\n",
       "    <tr>\n",
       "      <th>United States of America</th>\n",
       "      <td>North America</td>\n",
       "      <td>155</td>\n",
       "      <td>339</td>\n",
       "      <td>240.0</td>\n",
       "      <td>14.9</td>\n",
       "      <td>39.0</td>\n",
       "    </tr>\n",
       "    <tr>\n",
       "      <th>Australia</th>\n",
       "      <td>Oceania</td>\n",
       "      <td>105</td>\n",
       "      <td>252</td>\n",
       "      <td>183.0</td>\n",
       "      <td>28.4</td>\n",
       "      <td>35.0</td>\n",
       "    </tr>\n",
       "    <tr>\n",
       "      <th>New Zealand</th>\n",
       "      <td>Oceania</td>\n",
       "      <td>99</td>\n",
       "      <td>213</td>\n",
       "      <td>150.0</td>\n",
       "      <td>15.1</td>\n",
       "      <td>41.0</td>\n",
       "    </tr>\n",
       "  </tbody>\n",
       "</table>\n",
       "<p>62 rows × 6 columns</p>\n",
       "</div>"
      ],
      "text/plain": [
       "                              Continent  Men  Women  Total  Temperature  \\\n",
       "Country                                                                   \n",
       "Nigeria                          Africa    2      2    2.0         32.8   \n",
       "South Africa                     Africa   17     20   19.0         24.9   \n",
       "China                              Asia  102    182  141.0         13.0   \n",
       "Hong Kong                          Asia  149    324  230.0         26.0   \n",
       "India                              Asia  122    172  147.0         29.6   \n",
       "...                                 ...  ...    ...    ...          ...   \n",
       "Tunisia                     Middle East   41     58   50.0         24.9   \n",
       "Canada                    North America  136    298  211.0         -0.6   \n",
       "United States of America  North America  155    339  240.0         14.9   \n",
       "Australia                       Oceania  105    252  183.0         28.4   \n",
       "New Zealand                     Oceania   99    213  150.0         15.1   \n",
       "\n",
       "                          Latitude  \n",
       "Country                             \n",
       "Nigeria                        9.0  \n",
       "South Africa                  25.0  \n",
       "China                         39.0  \n",
       "Hong Kong                     22.0  \n",
       "India                         28.0  \n",
       "...                            ...  \n",
       "Tunisia                       36.0  \n",
       "Canada                        45.0  \n",
       "United States of America      39.0  \n",
       "Australia                     35.0  \n",
       "New Zealand                   41.0  \n",
       "\n",
       "[62 rows x 6 columns]"
      ]
     },
     "execution_count": 8,
     "metadata": {},
     "output_type": "execute_result"
    }
   ],
   "source": [
    "D"
   ]
  },
  {
   "cell_type": "code",
   "execution_count": 9,
   "metadata": {},
   "outputs": [
    {
     "data": {
      "text/plain": [
       "Index(['Taiwan', 'Serbia'], dtype='object', name='Country')"
      ]
     },
     "execution_count": 9,
     "metadata": {},
     "output_type": "execute_result"
    }
   ],
   "source": [
    "D.loc[D.Temperature.isnull()].index"
   ]
  },
  {
   "cell_type": "code",
   "execution_count": 10,
   "metadata": {},
   "outputs": [
    {
     "data": {
      "text/plain": [
       "Index(['Serbia', 'Taiwan'], dtype='object')"
      ]
     },
     "execution_count": 10,
     "metadata": {},
     "output_type": "execute_result"
    }
   ],
   "source": [
    "H.index.difference(T.index)"
   ]
  },
  {
   "cell_type": "code",
   "execution_count": 11,
   "metadata": {},
   "outputs": [
    {
     "data": {
      "text/plain": [
       "Index(['Cameroon', 'Estonia', 'Fidji Islands', 'Gambia', 'Vietnam'], dtype='object')"
      ]
     },
     "execution_count": 11,
     "metadata": {},
     "output_type": "execute_result"
    }
   ],
   "source": [
    "vitD= pd.read_table('../data/VitaminD_per_country.tsv',index_col=0,squeeze=True)\n",
    "vitD.rename(index={'USA':'United States of America','Korea (South)':'South Korea'},inplace=True)\n",
    "D['VitaminD']=vitD\n",
    "\n",
    "vitD.index.difference(D.index)"
   ]
  },
  {
   "cell_type": "code",
   "execution_count": 12,
   "metadata": {},
   "outputs": [
    {
     "data": {
      "text/plain": [
       "Index(['Nigeria', 'Hong Kong', 'Indonesia', 'Philippines', 'Singapore',\n",
       "       'Croatia', 'Hungary', 'Lithuania', 'Malta', 'Portugal', 'Romania',\n",
       "       'Serbia', 'Slovakia', 'Slovenia', 'Turkey', 'Argentina', 'Chile',\n",
       "       'Colombia', 'Ecuador', 'Mexico', 'Venezuela', 'Kuwait', 'Morocco',\n",
       "       'Oman'],\n",
       "      dtype='object', name='Country')"
      ]
     },
     "execution_count": 12,
     "metadata": {},
     "output_type": "execute_result"
    }
   ],
   "source": [
    "D.loc[D.VitaminD.isnull()].index"
   ]
  },
  {
   "cell_type": "markdown",
   "metadata": {},
   "source": [
    "# Calcium"
   ]
  },
  {
   "cell_type": "code",
   "execution_count": 13,
   "metadata": {},
   "outputs": [],
   "source": [
    "C= pd.read_excel('../raw_data/Calcium.xlsx')\n"
   ]
  },
  {
   "cell_type": "code",
   "execution_count": 14,
   "metadata": {},
   "outputs": [],
   "source": [
    "C.index= C.Country.map(lambda s: s.split('[')[0].strip())\n",
    "assert ~C.index.duplicated().any()\n",
    "C.rename(index={'USA':'United States of America',\n",
    "               'UK':'United Kingdom'},inplace=True)"
   ]
  },
  {
   "cell_type": "code",
   "execution_count": 15,
   "metadata": {},
   "outputs": [],
   "source": [
    "D['Calcium']= C.iloc[:,0]"
   ]
  },
  {
   "cell_type": "code",
   "execution_count": 16,
   "metadata": {},
   "outputs": [
    {
     "data": {
      "text/plain": [
       "Index(['Hong Kong', 'Lithuania', 'Malta', 'Poland', 'Romania', 'Slovakia',\n",
       "       'Slovenia', 'Turkey', 'Venezuela', 'Lebanon', 'Oman', 'Saudi Arabia',\n",
       "       'Tunisia'],\n",
       "      dtype='object', name='Country')"
      ]
     },
     "execution_count": 16,
     "metadata": {},
     "output_type": "execute_result"
    }
   ],
   "source": [
    "D.loc[D.Calcium.isnull()].index"
   ]
  },
  {
   "cell_type": "code",
   "execution_count": 17,
   "metadata": {},
   "outputs": [
    {
     "data": {
      "text/plain": [
       "Index(['Algeria', 'Bangladesh', 'Barbados', 'Bolivia', 'Botswana',\n",
       "       'Burkina Faso', 'Cameroon', 'Cape Verde', 'Costa Rica', 'Egypt',\n",
       "       'Ethiopia', 'Gambia', 'Guam', 'Jamaica', 'Latvia', 'Mali', 'Myanmar',\n",
       "       'Nepal', 'Pakistan', 'Palestine', 'Polandi', 'Tanzania', 'Tonga',\n",
       "       'Uganda', 'Vietnam'],\n",
       "      dtype='object', name='Country')"
      ]
     },
     "execution_count": 17,
     "metadata": {},
     "output_type": "execute_result"
    }
   ],
   "source": [
    "C.index.difference(D.index)"
   ]
  },
  {
   "cell_type": "code",
   "execution_count": 29,
   "metadata": {},
   "outputs": [],
   "source": [
    "L= pd.read_excel('../raw_data/Light_city_29.1.20.xlsx',index_col=[0,1])\n",
    "assert L.index.is_unique\n",
    "\n",
    "\n",
    "C.rename(index={'United States':'United States of America'},inplace=True)\n",
    "\n",
    "D['Sunlight']=L.Year.groupby(level=0).mean()"
   ]
  },
  {
   "cell_type": "code",
   "execution_count": 30,
   "metadata": {},
   "outputs": [
    {
     "data": {
      "text/plain": [
       "Index(['Malaysia', 'Jordan', 'Kuwait', 'Lebanon', 'United States of America'], dtype='object', name='Country')"
      ]
     },
     "execution_count": 30,
     "metadata": {},
     "output_type": "execute_result"
    }
   ],
   "source": [
    "D.loc[D.Sunlight.isnull()].index"
   ]
  },
  {
   "cell_type": "code",
   "execution_count": 31,
   "metadata": {},
   "outputs": [],
   "source": [
    "D.to_excel('../data/Data_for_correlations.xlsx')\n"
   ]
  },
  {
   "cell_type": "code",
   "execution_count": 32,
   "metadata": {},
   "outputs": [
    {
     "data": {
      "text/plain": [
       "Continent      62\n",
       "Men            62\n",
       "Women          62\n",
       "Total          61\n",
       "Temperature    60\n",
       "Latitude       62\n",
       "VitaminD       38\n",
       "Calcium        49\n",
       "Sunlight       57\n",
       "dtype: int64"
      ]
     },
     "execution_count": 32,
     "metadata": {},
     "output_type": "execute_result"
    }
   ],
   "source": [
    "(~D.isnull()).sum()"
   ]
  },
  {
   "cell_type": "code",
   "execution_count": null,
   "metadata": {},
   "outputs": [],
   "source": []
  },
  {
   "cell_type": "code",
   "execution_count": null,
   "metadata": {},
   "outputs": [],
   "source": []
  }
 ],
 "metadata": {
  "kernelspec": {
   "display_name": "Python 3",
   "language": "python",
   "name": "python3"
  },
  "language_info": {
   "codemirror_mode": {
    "name": "ipython",
    "version": 3
   },
   "file_extension": ".py",
   "mimetype": "text/x-python",
   "name": "python",
   "nbconvert_exporter": "python",
   "pygments_lexer": "ipython3",
   "version": "3.6.7"
  }
 },
 "nbformat": 4,
 "nbformat_minor": 4
}
