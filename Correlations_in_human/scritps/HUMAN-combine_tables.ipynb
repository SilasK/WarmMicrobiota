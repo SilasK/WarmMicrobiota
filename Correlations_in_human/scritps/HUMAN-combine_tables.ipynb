{
 "cells": [
  {
   "cell_type": "code",
   "execution_count": 4,
   "metadata": {},
   "outputs": [
    {
     "name": "stdout",
     "output_type": "stream",
     "text": [
      "Populating the interactive namespace from numpy and matplotlib\n"
     ]
    }
   ],
   "source": [
    "%pylab inline\n",
    "import pandas as pd"
   ]
  },
  {
   "cell_type": "code",
   "execution_count": 5,
   "metadata": {},
   "outputs": [],
   "source": [
    "from scipy.stats import pearsonr\n",
    "import shutil"
   ]
  },
  {
   "cell_type": "code",
   "execution_count": 6,
   "metadata": {},
   "outputs": [],
   "source": [
    "T=pd.read_excel('../raw_data/climate_change_download_0.xls',index_col=1,na_values='..')\n",
    "T.columns=T.columns.astype(str)\n",
    "T=T.loc[T['Series name']=='Average daily min/max temperature (1961-1990, Celsius)','2011']\n",
    "\n",
    "T=T.dropna().map(lambda s: s.split('/ ')[1]).astype(float)\n",
    "T.name='Temperature'\n",
    "T.rename(index={'Iran, Islamic Rep.':'Iran', \n",
    "                'Russian Federation':'Russia',\n",
    "               'Korea, Dem. Rep.':'South Korea',\n",
    "               'Hong Kong SAR, China':'Hong Kong',\n",
    "               'Slovak Republic':'Slovakia',\n",
    "               'Venezuela, RB':'Venezuela'},inplace=True)"
   ]
  },
  {
   "cell_type": "code",
   "execution_count": 10,
   "metadata": {},
   "outputs": [],
   "source": [
    "H= pd.read_excel('../raw_data/Hip_fracture.xlsx',index_col=0)"
   ]
  },
  {
   "cell_type": "code",
   "execution_count": 11,
   "metadata": {},
   "outputs": [],
   "source": [
    "\n",
    "\n",
    "Latitude= pd.read_excel('../raw_data/Latitudes.xlsx',index_col=0)\n",
    "Latitude['latitude']=Latitude.Latitude.str[:2].astype(int)\n",
    "Latitude.loc[(Latitude.Latitude.str[-1]=='S'),'latitude']*=-1\n",
    "\n",
    "D= H.join(T)\n",
    "D['Latitude']= Latitude.latitude.abs()"
   ]
  },
  {
   "cell_type": "code",
   "execution_count": 12,
   "metadata": {},
   "outputs": [
    {
     "data": {
      "text/plain": [
       "Index(['Serbia', 'Taiwan'], dtype='object')"
      ]
     },
     "execution_count": 12,
     "metadata": {},
     "output_type": "execute_result"
    }
   ],
   "source": [
    "D.index.difference(T.index)"
   ]
  },
  {
   "cell_type": "code",
   "execution_count": 13,
   "metadata": {},
   "outputs": [
    {
     "data": {
      "text/plain": [
       "Index(['Cameroon', 'Estonia', 'Fidji Islands', 'Gambia', 'Vietnam'], dtype='object')"
      ]
     },
     "execution_count": 13,
     "metadata": {},
     "output_type": "execute_result"
    }
   ],
   "source": [
    "vitD= pd.read_table('../data/VitaminD_per_country.tsv',index_col=0,squeeze=True)\n",
    "vitD.rename(index={'USA':'United States','Korea (South)':'South Korea'},inplace=True)\n",
    "D['VitaminD']=vitD\n",
    "\n",
    "vitD.index.difference(D.index)"
   ]
  },
  {
   "cell_type": "markdown",
   "metadata": {},
   "source": [
    "# Calcium"
   ]
  },
  {
   "cell_type": "code",
   "execution_count": 16,
   "metadata": {},
   "outputs": [],
   "source": [
    "C= pd.read_excel('../raw_data/Calcium.xlsx')"
   ]
  },
  {
   "cell_type": "code",
   "execution_count": 17,
   "metadata": {},
   "outputs": [],
   "source": [
    "C.index= C.Country.map(lambda s: s.split('[')[0].strip())\n",
    "assert ~C.index.duplicated().any()"
   ]
  },
  {
   "cell_type": "code",
   "execution_count": 18,
   "metadata": {},
   "outputs": [
    {
     "data": {
      "text/plain": [
       "Index([], dtype='object', name='Country')"
      ]
     },
     "execution_count": 18,
     "metadata": {},
     "output_type": "execute_result"
    }
   ],
   "source": [
    "C.index[C.index.str.contains('Kong')]"
   ]
  },
  {
   "cell_type": "code",
   "execution_count": 19,
   "metadata": {},
   "outputs": [
    {
     "data": {
      "text/plain": [
       "Index(['Algeria', 'Bangladesh', 'Barbados', 'Bolivia', 'Botswana',\n",
       "       'Burkina Faso', 'Cameroon', 'Cape Verde', 'Costa Rica', 'Egypt',\n",
       "       'Ethiopia', 'Gambia', 'Guam', 'Jamaica', 'Latvia', 'Mali', 'Myanmar',\n",
       "       'Nepal', 'Pakistan', 'Palestine', 'Polandi', 'Tanzania', 'Tonga', 'UK',\n",
       "       'USA', 'Uganda', 'Vietnam'],\n",
       "      dtype='object', name='Country')"
      ]
     },
     "execution_count": 19,
     "metadata": {},
     "output_type": "execute_result"
    }
   ],
   "source": [
    "C.index.difference(D.index)"
   ]
  },
  {
   "cell_type": "code",
   "execution_count": 20,
   "metadata": {},
   "outputs": [
    {
     "data": {
      "text/plain": [
       "Index(['Hong Kong', 'Lebanon', 'Lithuania', 'Malta', 'Oman', 'Poland',\n",
       "       'Romania', 'Saudi Arabia', 'Slovakia', 'Slovenia', 'Tunisia', 'Turkey',\n",
       "       'United Kingdom', 'United States', 'Venezuela'],\n",
       "      dtype='object', name='Country')"
      ]
     },
     "execution_count": 20,
     "metadata": {},
     "output_type": "execute_result"
    }
   ],
   "source": [
    "D.index.difference(C.index)"
   ]
  },
  {
   "cell_type": "code",
   "execution_count": 22,
   "metadata": {},
   "outputs": [],
   "source": [
    "D['Calcium']= C.iloc[:,0]"
   ]
  },
  {
   "cell_type": "code",
   "execution_count": 24,
   "metadata": {},
   "outputs": [],
   "source": [
    "D.to_excel('../data/Data_for_correlations.xlsx')\n"
   ]
  },
  {
   "cell_type": "code",
   "execution_count": null,
   "metadata": {},
   "outputs": [],
   "source": []
  }
 ],
 "metadata": {
  "kernelspec": {
   "display_name": "Python 3",
   "language": "python",
   "name": "python3"
  },
  "language_info": {
   "codemirror_mode": {
    "name": "ipython",
    "version": 3
   },
   "file_extension": ".py",
   "mimetype": "text/x-python",
   "name": "python",
   "nbconvert_exporter": "python",
   "pygments_lexer": "ipython3",
   "version": "3.6.7"
  }
 },
 "nbformat": 4,
 "nbformat_minor": 4
}
